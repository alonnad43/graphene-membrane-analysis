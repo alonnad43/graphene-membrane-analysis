{
 "cells": [
  {
   "cell_type": "markdown",
   "id": "c00946b1",
   "metadata": {},
   "source": [
    "# Workflow Validation, Extension, and Tracking\n",
    "\n",
    "This notebook demonstrates how to validate, extend, and track the simulation workflow with new data sections, including automated tests, example extensions, user-facing error handling, and changelog management.\n",
    "\n",
    "---\n",
    "\n",
    "## 1. Automated Tests for Data Section Parsing\n",
    "\n",
    "The following cells use `pytest`-style assertions to ensure all new data sections in `forcefield_params.json` are present and correctly formatted. These tests help guarantee that the workflow can parse and use the new parameters for dihedrals, beads, ions, PFAS, antibiotics, and microplastics."
   ]
  },
  {
   "cell_type": "code",
   "execution_count": null,
   "id": "846f2892",
   "metadata": {},
   "outputs": [],
   "source": [
    "import json\n",
    "import os\n",
    "\n",
    "def load_forcefield():\n",
    "    with open('../data/forcefield_params.json', 'r') as f:\n",
    "        return json.load(f)\n",
    "\n",
    "ff = load_forcefield()\n",
    "\n",
    "# Test dihedral_types\n",
    "assert 'dihedral_types' in ff, \"Missing 'dihedral_types' section.\"\n",
    "for key in [\"O_double-C_carb-O_single\", \"C-O_epoxy-C\", \"CT-N-CT\", \"O_S-O_S-S\"]:\n",
    "    assert key in ff['dihedral_types'], f\"Missing dihedral: {key}\"\n",
    "\n",
    "# Test coarse_grained_beads\n",
    "assert 'coarse_grained_beads' in ff, \"Missing 'coarse_grained_beads' section.\"\n",
    "for bead in [\"PL\", \"RV\"]:\n",
    "    assert bead in ff['coarse_grained_beads'], f\"Missing bead: {bead}\"\n",
    "\n",
    "# Test regeneration_chemistry\n",
    "assert 'regeneration_chemistry' in ff, \"Missing 'regeneration_chemistry' section.\"\n",
    "assert 'ClO' in ff['regeneration_chemistry'], \"Missing ClO in regeneration_chemistry.\"\n",
    "assert 'bonds' in ff['regeneration_chemistry'], \"Missing bonds in regeneration_chemistry.\"\n",
    "assert 'O-ClO' in ff['regeneration_chemistry']['bonds'], \"Missing O-ClO bond.\"\n",
    "\n",
    "# Test pfas_cross_terms\n",
    "assert 'pfas_cross_terms' in ff, \"Missing 'pfas_cross_terms' section.\"\n",
    "for key in [\"PFOA-C_carb\", \"PFOS-O_double\", \"PFBS-CT\"]:\n",
    "    assert key in ff['pfas_cross_terms'], f\"Missing PFAS cross-term: {key}\"\n",
    "\n",
    "# Test antibiotic_parameters\n",
    "assert 'antibiotic_parameters' in ff, \"Missing 'antibiotic_parameters' section.\"\n",
    "for key in [\"Cipro_C-N\", \"Cipro_N-C-C\", \"Tetra_O-C-O\"]:\n",
    "    assert key in ff['antibiotic_parameters'], f\"Missing antibiotic parameter: {key}\"\n",
    "\n",
    "# Test microplastic_hybrid\n",
    "assert 'microplastic_hybrid' in ff, \"Missing 'microplastic_hybrid' section.\"\n",
    "for key in [\"PET\", \"PS\"]:\n",
    "    assert key in ff['microplastic_hybrid'], f\"Missing microplastic: {key}\"\n",
    "\n",
    "print(\"All new data sections are present and correctly formatted.\")"
   ]
  },
  {
   "cell_type": "markdown",
   "id": "b74c0d7d",
   "metadata": {},
   "source": [
    "---\n",
    "\n",
    "## 2. Example: Adding New Materials\n",
    "\n",
    "This section demonstrates how to add a new material (e.g., a microplastic) to the workflow by updating `forcefield_params.json` with the required parameters. This ensures the new material is available for simulation and analysis."
   ]
  },
  {
   "cell_type": "code",
   "execution_count": null,
   "id": "9bcd591e",
   "metadata": {},
   "outputs": [],
   "source": [
    "# Add a new microplastic (Polypropylene, PP) to forcefield_params.json\n",
    "import json\n",
    "\n",
    "with open('../data/forcefield_params.json', 'r') as f:\n",
    "    ff = json.load(f)\n",
    "\n",
    "# Add Polypropylene (PP)\n",
    "ff.setdefault('microplastic_hybrid', {})['PP'] = {\n",
    "    \"sigma\": 4.10,\n",
    "    \"epsilon\": 0.09,\n",
    "    \"hydration_energy\": -13.5\n",
    "}\n",
    "\n",
    "with open('../data/forcefield_params.json', 'w') as f:\n",
    "    json.dump(ff, f, indent=2)\n",
    "\n",
    "print(\"Added Polypropylene (PP) to microplastic_hybrid section.\")"
   ]
  },
  {
   "cell_type": "markdown",
   "id": "1e3744f6",
   "metadata": {},
   "source": [
    "---\n",
    "\n",
    "## 3. Example: Running Custom Scenarios\n",
    "\n",
    "This section shows how to run a custom scenario using the workflow, such as simulating a membrane with a new background ion or microplastic. You can specify scenario parameters and interpret the results using the workflow's main functions."
   ]
  },
  {
   "cell_type": "code",
   "execution_count": null,
   "id": "4199266d",
   "metadata": {},
   "outputs": [],
   "source": [
    "# Example: Run a custom scenario with a new background ion (e.g., HCO3)\n",
    "from src.simulate_chemistry import ChemicalSimulationEngine\n",
    "\n",
    "# Add a new scenario: simulate HCO3- removal with a hybrid membrane\n",
    "environment = ChemicalSimulationEngine()\n",
    "custom_contaminants = ['HCO3']\n",
    "custom_concentrations = {'HCO3': 50.0}\n",
    "\n",
    "results = environment.simulate_contaminant_removal(\n",
    "    membrane_type='hybrid',\n",
    "    contaminants=custom_contaminants,\n",
    "    initial_concentrations=custom_concentrations,\n",
    "    reaction_time=120\n",
    ")\n",
    "\n",
    "print(\"Custom scenario results:\")\n",
    "print(results)"
   ]
  }
 ],
 "metadata": {
  "language_info": {
   "name": "python"
  }
 },
 "nbformat": 4,
 "nbformat_minor": 5
}
