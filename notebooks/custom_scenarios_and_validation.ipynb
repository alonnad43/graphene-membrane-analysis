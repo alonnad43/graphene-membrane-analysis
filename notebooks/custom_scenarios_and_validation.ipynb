{
 "cells": [
  {
   "cell_type": "markdown",
   "id": "4f9cefd1",
   "metadata": {},
   "source": [
    "# Graphene Membrane Workflow: Custom Scenarios, Validation, and Extension\n",
    "\n",
    "This notebook demonstrates robust workflows for integrating and validating new data sections (e.g., dihedrals, cross-terms, pathogens, microplastics) in the graphene membrane simulation project. It includes:\n",
    "- Automated tests for data parsing\n",
    "- Examples for adding new materials\n",
    "- Custom scenario execution\n",
    "- User-facing error handling\n",
    "- Changelog/version history tracking\n",
    "\n",
    "---\n",
    "\n",
    "## 1. Automated Tests for Data Section Parsing\n",
    "Write unit tests to ensure new data sections are correctly parsed and integrated into the workflow. Uses `pytest` for demonstration."
   ]
  },
  {
   "cell_type": "code",
   "execution_count": null,
   "id": "5f9b3200",
   "metadata": {},
   "outputs": [],
   "source": [
    "import json\n",
    "import os\n",
    "import unittest\n",
    "\n",
    "DATA_PATH = os.path.join('..', 'data', 'forcefield_params.json')\n",
    "\n",
    "class TestDataSections(unittest.TestCase):\n",
    "    def setUp(self):\n",
    "        with open(DATA_PATH, 'r') as f:\n",
    "            self.params = json.load(f)\n",
    "\n",
    "    def test_dihedral_types(self):\n",
    "        self.assertIn('dihedral_types', self.params)\n",
    "        self.assertIsInstance(self.params['dihedral_types'], dict)\n",
    "\n",
    "    def test_microplastic_hybrid(self):\n",
    "        self.assertIn('microplastic_hybrid', self.params)\n",
    "        self.assertIsInstance(self.params['microplastic_hybrid'], dict)\n",
    "\n",
    "    def test_pathogen_parameters(self):\n",
    "        self.assertIn('pathogen_parameters', self.params)\n",
    "        self.assertIsInstance(self.params['pathogen_parameters'], dict)\n",
    "\n",
    "    def test_regeneration_chemistry(self):\n",
    "        self.assertIn('regeneration_chemistry', self.params)\n",
    "        self.assertIsInstance(self.params['regeneration_chemistry'], dict)\n",
    "\n",
    "unittest.TextTestRunner().run(unittest.makeSuite(TestDataSections))"
   ]
  },
  {
   "cell_type": "markdown",
   "id": "624d031c",
   "metadata": {},
   "source": [
    "## 2. Example: Adding New Materials\n",
    "\n",
    "This section demonstrates how to add a new microplastic and a new pathogen to the `forcefield_params.json` data file, and verify their integration."
   ]
  },
  {
   "cell_type": "code",
   "execution_count": null,
   "id": "eeda86d4",
   "metadata": {},
   "outputs": [],
   "source": [
    "# Add a new microplastic and pathogen to the data file\n",
    "data_path = os.path.join('..', 'data', 'forcefield_params.json')\n",
    "\n",
    "new_microplastic = {\n",
    "    \"PET\": {\n",
    "        \"diameter_nm\": 0.1,\n",
    "        \"density_g_cm3\": 1.38,\n",
    "        \"hydrophobicity\": 0.8\n",
    "    }\n",
    "}\n",
    "\n",
    "new_pathogen = {\n",
    "    \"Salmonella\": {\n",
    "        \"diameter_nm\": 0.7,\n",
    "        \"length_nm\": 2.5,\n",
    "        \"charge\": -1,\n",
    "        \"interaction_strength\": 1.1\n",
    "    }\n",
    "}\n",
    "\n",
    "with open(data_path, 'r') as f:\n",
    "    params = json.load(f)\n",
    "\n",
    "params.setdefault('microplastic_hybrid', {}).update(new_microplastic)\n",
    "params.setdefault('pathogen_parameters', {}).update(new_pathogen)\n",
    "\n",
    "with open(data_path, 'w') as f:\n",
    "    json.dump(params, f, indent=2)\n",
    "\n",
    "print(\"Added PET to microplastic_hybrid and Salmonella to pathogen_parameters.\")"
   ]
  },
  {
   "cell_type": "markdown",
   "id": "bbe73a77",
   "metadata": {},
   "source": [
    "## 3. Example: Running Custom Scenarios\n",
    "\n",
    "This section shows how to run a custom simulation scenario using the main workflow, utilizing the newly added data sections. (Assumes main workflow is modular and callable from Python.)"
   ]
  },
  {
   "cell_type": "code",
   "execution_count": null,
   "id": "b9cc7857",
   "metadata": {},
   "outputs": [],
   "source": [
    "# Example: Run a custom scenario (pseudo-code, adapt as needed for your workflow)\n",
    "from src.main import run_simulation  # Assumes main.py exposes a run_simulation function\n",
    "\n",
    "custom_config = {\n",
    "    \"membrane_type\": \"hybrid\",\n",
    "    \"microplastic\": \"PET\",\n",
    "    \"pathogen\": \"Salmonella\",\n",
    "    \"pressure_bar\": 5,\n",
    "    \"thickness_nm\": 50\n",
    "}\n",
    "\n",
    "try:\n",
    "    result = run_simulation(custom_config)\n",
    "    print(\"Simulation completed. Result:\")\n",
    "    print(result)\n",
    "except Exception as e:\n",
    "    print(f\"Simulation failed: {e}\")"
   ]
  },
  {
   "cell_type": "markdown",
   "id": "39feafba",
   "metadata": {},
   "source": [
    "## 4. User-Facing Error Messages for Data Issues\n",
    "\n",
    "This section demonstrates error handling that provides clear, user-friendly messages when new data is missing or misformatted."
   ]
  },
  {
   "cell_type": "code",
   "execution_count": null,
   "id": "2f76ad9e",
   "metadata": {},
   "outputs": [],
   "source": [
    "# Example: User-facing error handling for missing/misformatted data\n",
    "\n",
    "def get_microplastic_param(params, name):\n",
    "    try:\n",
    "        return params['microplastic_hybrid'][name]\n",
    "    except KeyError:\n",
    "        raise ValueError(f\"Microplastic '{name}' not found in data. Please add it to forcefield_params.json.\")\n",
    "\n",
    "def get_pathogen_param(params, name):\n",
    "    try:\n",
    "        return params['pathogen_parameters'][name]\n",
    "    except KeyError:\n",
    "        raise ValueError(f\"Pathogen '{name}' not found in data. Please add it to forcefield_params.json.\")\n",
    "\n",
    "# Simulate missing data error\n",
    "try:\n",
    "    get_microplastic_param({}, 'PET')\n",
    "except ValueError as e:\n",
    "    print(f\"User-facing error: {e}\")"
   ]
  },
  {
   "cell_type": "markdown",
   "id": "8062f99b",
   "metadata": {},
   "source": [
    "## 5. Changelog and Version History Tracking\n",
    "\n",
    "This section shows how to maintain and display a changelog/version history, referencing the `CHANGELOG.md` file."
   ]
  },
  {
   "cell_type": "code",
   "execution_count": null,
   "id": "6626c9e5",
   "metadata": {},
   "outputs": [],
   "source": [
    "# Display the changelog/version history\n",
    "with open(os.path.join('..', 'CHANGELOG.md'), 'r') as f:\n",
    "    changelog = f.read()\n",
    "print(changelog)"
   ]
  }
 ],
 "metadata": {
  "language_info": {
   "name": "python"
  }
 },
 "nbformat": 4,
 "nbformat_minor": 5
}
